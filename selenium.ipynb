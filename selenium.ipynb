{
 "cells": [
  {
   "cell_type": "code",
   "execution_count": 52,
   "id": "2c2d5313-dddb-4f91-961e-2ab7f3ac10c0",
   "metadata": {},
   "outputs": [],
   "source": [
    "import pytest\n",
    "from selenium import webdriver\n",
    "from selenium.webdriver.common.by import By\n",
    "from selenium.webdriver.common.keys import Keys"
   ]
  },
  {
   "cell_type": "code",
   "execution_count": 62,
   "id": "155ead8e-18e5-425b-a0a9-2bf1320a284a",
   "metadata": {},
   "outputs": [],
   "source": [
    "gov_websites = ['https://www.sead.pi.gov.br/', 'https://www.sefaz.pi.gov.br/']"
   ]
  },
  {
   "cell_type": "code",
   "execution_count": 64,
   "id": "a33bf420-62fa-4ae6-96ea-2d4ed7b2b9a5",
   "metadata": {},
   "outputs": [],
   "source": [
    "handles_dict = {}\n",
    "\n",
    "brw = webdriver.Chrome()\n",
    "\n",
    "for i in range(0, len(gov_websites)): \n",
    "    brw.switch_to.new_window('tab')\n",
    "    brw.get(gov_websites[i])\n",
    "    handles_dict[gov_websites[i]] = brw.current_window_handle"
   ]
  },
  {
   "cell_type": "code",
   "execution_count": 65,
   "id": "7f1cc938-2408-4283-92df-1b92ad65d564",
   "metadata": {},
   "outputs": [
    {
     "name": "stdout",
     "output_type": "stream",
     "text": [
      "{'https://www.sead.pi.gov.br/': 'https://instagram.com/suparcpi', 'https://www.sefaz.pi.gov.br/': 'https://www.instagram.com/sefazpi/'}\n"
     ]
    }
   ],
   "source": [
    "gov_instagram_dict = {}\n",
    "\n",
    "\n",
    "for website, website_id in handles_dict.items():\n",
    "    brw.switch_to.window(website_id)\n",
    "    links = brw.find_elements(By.TAG_NAME, 'a')\n",
    "    for link in links:\n",
    "        url = link.get_attribute('href')\n",
    "        if url is not None:\n",
    "            if 'instagram.com' in url: gov_instagram_dict[website] = url\n",
    "\n",
    "    contact = [input_name, input_email, input_phone]\n",
    "\n",
    "print(gov_instagram_dict)"
   ]
  }
 ],
 "metadata": {
  "kernelspec": {
   "display_name": "Python 3 (ipykernel)",
   "language": "python",
   "name": "python3"
  },
  "language_info": {
   "codemirror_mode": {
    "name": "ipython",
    "version": 3
   },
   "file_extension": ".py",
   "mimetype": "text/x-python",
   "name": "python",
   "nbconvert_exporter": "python",
   "pygments_lexer": "ipython3",
   "version": "3.12.3"
  }
 },
 "nbformat": 4,
 "nbformat_minor": 5
}
